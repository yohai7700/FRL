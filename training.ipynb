{
 "cells": [
  {
   "cell_type": "code",
   "execution_count": null,
   "metadata": {},
   "outputs": [],
   "source": [
    "from main import main\n",
    "from args import args\n",
    "\n",
    "args.config = \"experiments/028_config_MNIST_LeNet_FRL_Footrule_1000users_noniid1.0_nomalicious.txt\"\n",
    "\n",
    "main()"
   ]
  }
 ],
 "metadata": {
  "language_info": {
   "name": "python"
  }
 },
 "nbformat": 4,
 "nbformat_minor": 2
}
